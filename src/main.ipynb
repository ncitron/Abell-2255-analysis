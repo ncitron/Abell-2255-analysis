{
 "cells": [
  {
   "cell_type": "markdown",
   "metadata": {},
   "source": [
    "# Abell 2255 Analysis"
   ]
  },
  {
   "cell_type": "markdown",
   "metadata": {},
   "source": [
    "Abell 225 is a galaxy cluster located at approx. RA = 258.1292, DEC = 64.0925\n",
    "\n",
    "We have already added all objects from the approximate location of Abell 2255 into data/sdss_data.csv"
   ]
  },
  {
   "cell_type": "markdown",
   "metadata": {},
   "source": [
    "### Imports"
   ]
  },
  {
   "cell_type": "code",
   "execution_count": 17,
   "metadata": {},
   "outputs": [],
   "source": [
    "import math\n",
    "import pandas as pd\n",
    "import matplotlib.pyplot as plt\n",
    "import numpy as np\n",
    "from numpy.polynomial.polynomial import polyfit\n",
    "from IPython.display import FileLink, FileLinks"
   ]
  },
  {
   "cell_type": "markdown",
   "metadata": {},
   "source": [
    "### Data Handling"
   ]
  },
  {
   "cell_type": "markdown",
   "metadata": {},
   "source": [
    "I removed all entries that do not have type=3. Type=3 is for galaxies and type=6 is stars."
   ]
  },
  {
   "cell_type": "code",
   "execution_count": 18,
   "metadata": {
    "scrolled": false
   },
   "outputs": [],
   "source": [
    "color = pd.read_csv(\"../data/color_data.csv\")\n",
    "redshift = pd.read_csv(\"../data/redshift_data.csv\")\n",
    "\n",
    "data = pd.merge(color, redshift, left_on='objID', right_on='bestObjID', how='outer')\n",
    "data = data[data.type == 3]\n",
    "data['u_g'] = data['modelMag_u'] - data['modelMag_g']\n",
    "data['g_r'] = data['modelMag_g'] - data['modelMag_r']"
   ]
  },
  {
   "cell_type": "markdown",
   "metadata": {},
   "source": [
    "Some of this data appears to be a bit scattered. I think some of these galaxies are in front/behind our targeted cluster. Maybe culling galaxies with very dissimilar redshifts will make the data better. Right now it is commented out but remove the # if you want to cull the galaxies with weird z-values."
   ]
  },
  {
   "cell_type": "code",
   "execution_count": 28,
   "metadata": {},
   "outputs": [],
   "source": [
    "data = data[((data.z > .06) & (data.z < .09))]\n"
   ]
  },
  {
   "cell_type": "markdown",
   "metadata": {},
   "source": [
    "I guess there is a lot of galaxies that do not have z values so much culling was not as useful as anticipated."
   ]
  },
  {
   "cell_type": "markdown",
   "metadata": {},
   "source": [
    "### Export Data\n",
    "Just in case anyone wants to download the data themselves. This will send you to a page with the raw data. When you get there hit raw then right click and save as."
   ]
  },
  {
   "cell_type": "code",
   "execution_count": 29,
   "metadata": {},
   "outputs": [
    {
     "data": {
      "text/html": [
       "<a href='../exports/abell2255.csv' target='_blank'>../exports/abell2255.csv</a><br>"
      ],
      "text/plain": [
       "/Users/noahcitron/Desktop/Abell-2255-analysis/exports/abell2255.csv"
      ]
     },
     "execution_count": 29,
     "metadata": {},
     "output_type": "execute_result"
    }
   ],
   "source": [
    "data.to_csv('../exports/abell2255.csv')\n",
    "FileLink('../exports/abell2255.csv')"
   ]
  },
  {
   "cell_type": "markdown",
   "metadata": {},
   "source": [
    "### Generate Graph and Analyze Data"
   ]
  },
  {
   "cell_type": "code",
   "execution_count": 30,
   "metadata": {},
   "outputs": [
    {
     "data": {
      "image/png": "[encoded data removed]",
      "text/plain": [
       "<Figure size 432x288 with 1 Axes>"
      ]
     },
     "metadata": {
      "needs_background": "light"
     },
     "output_type": "display_data"
    }
   ],
   "source": [
    "plt.scatter(x=data.u_g, y=data.g_r, s=20)\n",
    "plt.xlim(0,3)\n",
    "plt.ylim(-1,3)\n",
    "plt.xlabel(\"u-g\")\n",
    "plt.ylabel(\"g-r\")\n",
    "b, m = polyfit(data.u_g, data.g_r, 1)\n",
    "x = np.array([-10,10])\n",
    "plt.plot(x, m*x+b, c='red')\n",
    "plt.plot(x, (-1)*x + 2.2, c='green')\n",
    "plt.title(\"Color-Color Graph of Abell 2255\")\n",
    "plt.show()"
   ]
  },
  {
   "cell_type": "markdown",
   "metadata": {},
   "source": [
    "The red line in this graph shows the best fit line of this data. The green line is a imperically derived equation for seperating elliptical and spiral galxies. Most elliptical galxies will be above this line and most spirals below. More info on this can be found at http://skyserver.sdss.org/dr6/en/proj/advanced/galaxies/separator.asp"
   ]
  },
  {
   "cell_type": "code",
   "execution_count": 16,
   "metadata": {},
   "outputs": [
    {
     "name": "stdout",
     "output_type": "stream",
     "text": [
      "Spirals: 4 (12.5%) \n",
      "Ellipticals: 28 (87.5%) \n"
     ]
    }
   ],
   "source": [
    "spiral = 0\n",
    "elliptical = 0\n",
    "for index, galaxy in data.iterrows():\n",
    "    if (galaxy['u_g'] * (-1) + 2.2) > galaxy['g_r']:\n",
    "        spiral+=1\n",
    "    if (galaxy['u_g'] * (-1) + 2.2) < galaxy['g_r']:\n",
    "        elliptical+=1\n",
    "print(\"Spirals: \" + str(spiral) + \" (\" + str(round((spiral*100)/(spiral+elliptical), 2)) + \"%) \")\n",
    "print(\"Ellipticals: \" + str(elliptical) + \" (\" + str(round((elliptical*100)/(spiral+elliptical), 2)) + \"%) \")"
   ]
  },
  {
   "cell_type": "code",
   "execution_count": null,
   "metadata": {},
   "outputs": [],
   "source": []
  }
 ],
 "metadata": {
  "kernelspec": {
   "display_name": "Python 3",
   "language": "python",
   "name": "python3"
  },
  "language_info": {
   "codemirror_mode": {
    "name": "ipython",
    "version": 3
   },
   "file_extension": ".py",
   "mimetype": "text/x-python",
   "name": "python",
   "nbconvert_exporter": "python",
   "pygments_lexer": "ipython3",
   "version": "3.7.1"
  }
 },
 "nbformat": 4,
 "nbformat_minor": 2
}
