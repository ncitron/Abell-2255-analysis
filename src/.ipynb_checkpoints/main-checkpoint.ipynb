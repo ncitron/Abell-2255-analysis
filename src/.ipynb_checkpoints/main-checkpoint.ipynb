{
 "cells": [
  {
   "cell_type": "markdown",
   "metadata": {},
   "source": [
    "# Abell 2255 Analysis"
   ]
  },
  {
   "cell_type": "markdown",
   "metadata": {},
   "source": [
    "Abell 225 is a galaxy cluster located at approx. RA = 258.1292, DEC = 64.0925\n",
    "\n",
    "We have already added all objects from the approximate location of Abell 2255 into data/sdss_data.csv"
   ]
  },
  {
   "cell_type": "markdown",
   "metadata": {},
   "source": [
    "### Imports"
   ]
  },
  {
   "cell_type": "code",
   "execution_count": 202,
   "metadata": {},
   "outputs": [],
   "source": [
    "import math\n",
    "import pandas as pd\n",
    "import matplotlib.pyplot as plt"
   ]
  },
  {
   "cell_type": "markdown",
   "metadata": {},
   "source": [
    "### Data Handling"
   ]
  },
  {
   "cell_type": "markdown",
   "metadata": {},
   "source": [
    "I removed all entries that do not have type=3. Type=3 is for galaxies and type=6 is stars."
   ]
  },
  {
   "cell_type": "code",
   "execution_count": 203,
   "metadata": {
    "scrolled": false
   },
   "outputs": [],
   "source": [
    "color = pd.read_csv(\"../data/color_data.csv\")\n",
    "redshift = pd.read_csv(\"../data/redshift_data.csv\")\n",
    "\n",
    "data = pd.merge(color, redshift, left_on='objID', right_on='bestObjID', how='outer')\n",
    "data = data[data.type == 3]\n",
    "data['u_g'] = data['modelMag_u'] - data['modelMag_g']\n",
    "data['g_r'] = data['modelMag_g'] - data['modelMag_r']"
   ]
  },
  {
   "cell_type": "markdown",
   "metadata": {},
   "source": [
    "Some of this daya appears to be a bit scattered. I think some of these galaxies are in front/behind our targeted cluster. Maybe culling galaxies with very dissimilar redshifts will make the data better."
   ]
  },
  {
   "cell_type": "code",
   "execution_count": 204,
   "metadata": {},
   "outputs": [],
   "source": [
    "data = data[((data.z > .055) & (data.z < .095)) | (pd.isnull(data.z))]"
   ]
  },
  {
   "cell_type": "markdown",
   "metadata": {},
   "source": [
    "I guess there is a lot of galaxies that do not have z values so much culling was not as useful as anticipated."
   ]
  },
  {
   "cell_type": "markdown",
   "metadata": {},
   "source": [
    "### Generate Graph"
   ]
  },
  {
   "cell_type": "code",
   "execution_count": 205,
   "metadata": {},
   "outputs": [
    {
     "data": {
      "image/png": "[encoded data removed]",
      "text/plain": [
       "<Figure size 432x288 with 1 Axes>"
      ]
     },
     "metadata": {
      "needs_background": "light"
     },
     "output_type": "display_data"
    }
   ],
   "source": [
    "plt.scatter(x=data.u_g, y=data.g_r, s=4)\n",
    "plt.xlabel(\"u-g\")\n",
    "plt.ylabel(\"g-r\")\n",
    "plt.title(\"Color-Color Graph of Abell 2255\")\n",
    "plt.show()"
   ]
  }
 ],
 "metadata": {
  "kernelspec": {
   "display_name": "Python 3",
   "language": "python",
   "name": "python3"
  },
  "language_info": {
   "codemirror_mode": {
    "name": "ipython",
    "version": 3
   },
   "file_extension": ".py",
   "mimetype": "text/x-python",
   "name": "python",
   "nbconvert_exporter": "python",
   "pygments_lexer": "ipython3",
   "version": "3.7.1"
  }
 },
 "nbformat": 4,
 "nbformat_minor": 2
}
